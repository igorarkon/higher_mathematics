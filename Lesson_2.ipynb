{
 "cells": [
  {
   "cell_type": "markdown",
   "metadata": {},
   "source": [
    "# 1. Задание \n"
   ]
  },
  {
   "cell_type": "markdown",
   "metadata": {},
   "source": [
    "\n",
    "Напишите уравнение параболы, проходящей через три точки (x,y):\n",
    "(1,2), (3,10), (5,1)\n"
   ]
  },
  {
   "cell_type": "markdown",
   "metadata": {},
   "source": [
    "y = ax^2+bx+c - уравнение"
   ]
  },
  {
   "cell_type": "markdown",
   "metadata": {},
   "source": [
    "Подставим значения для каждой точки:\n",
    "\n",
    "2=𝑎+𝑏+𝑐,\n",
    "\n",
    "10=9𝑎+3𝑏+𝑐,\n",
    "\n",
    "1=25𝑎+5𝑏+𝑐."
   ]
  },
  {
   "cell_type": "markdown",
   "metadata": {},
   "source": [
    "Выведем c и подставим в последующие уравнения\n",
    "\n",
    "c=2-a-b,\n",
    "\n",
    "10=9a+3b+2-a-b,\n",
    "\n",
    "1=25a+5b+2-a-b."
   ]
  },
  {
   "cell_type": "markdown",
   "metadata": {},
   "source": [
    "c=2-a-b\n",
    "\n",
    "8=8a+2b\n",
    "\n",
    "-1=24a+4b"
   ]
  },
  {
   "cell_type": "markdown",
   "metadata": {},
   "source": [
    "Умножим второе уравнение на два\n",
    "\n",
    "c=2-a-b\n",
    "\n",
    "16=16a+4b\n",
    "\n",
    "-1=24a+4b"
   ]
  },
  {
   "cell_type": "markdown",
   "metadata": {},
   "source": [
    "Вычтем второе из третьего и выведем b из второго\n",
    "\n",
    "c=2-a-b\n",
    "\n",
    "b=4-4a\n",
    "\n",
    "8a=-17"
   ]
  },
  {
   "cell_type": "markdown",
   "metadata": {},
   "source": [
    "a=-17/8\n",
    "\n",
    "b=25/2\n",
    "\n",
    "c=-67/8"
   ]
  },
  {
   "cell_type": "markdown",
   "metadata": {},
   "source": [
    "Уравнение параболы\n",
    "\n",
    "y=-17/8x^2 + 25/2x - 67/8"
   ]
  },
  {
   "cell_type": "code",
   "execution_count": 6,
   "metadata": {},
   "outputs": [
    {
     "data": {
      "image/png": "[encoded data removed]",
      "text/plain": [
       "<Figure size 432x288 with 1 Axes>"
      ]
     },
     "metadata": {
      "needs_background": "light"
     },
     "output_type": "display_data"
    }
   ],
   "source": [
    "import matplotlib.pyplot as plt\n",
    "import numpy as np\n",
    "\n",
    "# Создаём экземпляр класса figure и добавляем к Figure область Axes\n",
    "fig, ax = plt.subplots()\n",
    "# Добавим заголовок графика\n",
    "ax.set_title('График функции')\n",
    "# Название оси X:\n",
    "ax.set_xlabel('x')\n",
    "# Название оси Y:\n",
    "ax.set_ylabel('y')\n",
    "# Начало и конец изменения значения X, разбитое на 100 точек\n",
    "x = np.linspace(1, 5, 100) # X от -5 до 5\n",
    "# Построение прямой\n",
    "y = (-17/8)*x**2 + (25/2)*x - 67/8\n",
    "# Вывод графика\n",
    "ax.plot(x, y)\n",
    "plt.show()"
   ]
  },
  {
   "cell_type": "markdown",
   "metadata": {},
   "source": [
    "Согласно визуальной проверки - все верно"
   ]
  },
  {
   "cell_type": "markdown",
   "metadata": {},
   "source": [
    "# 2. Задание "
   ]
  },
  {
   "cell_type": "markdown",
   "metadata": {},
   "source": [
    "Известно, что свежий огурец на 99% состоит из воды. Месяц назад взвесили мешок со свежими огурцами. Получилось, что мешок весил ровно 100 кг. Мешок убрали, а через месяц снова взвесили. Огурцы за это время усохли, и теперь вода составляет уже только 98% их веса. Сколько теперь (в кг) весят огурцы?"
   ]
  },
  {
   "cell_type": "markdown",
   "metadata": {},
   "source": [
    "1 кг ( сухой вес огурцов не меняется) = x - 0.98*x\n",
    "\n",
    "Отсюда :\n",
    "\n",
    "x = 1 / (1 - 0.98) = 50кг"
   ]
  },
  {
   "cell_type": "markdown",
   "metadata": {},
   "source": [
    "# 3. Задание. Определение логарифма. Решить уравнения:"
   ]
  },
  {
   "cell_type": "markdown",
   "metadata": {},
   "source": [
    "2^x = 256\n",
    "\n",
    "x = log2(256) = 8"
   ]
  },
  {
   "cell_type": "markdown",
   "metadata": {},
   "source": [
    "2^x = 300\n",
    "\n",
    "x = log2(300) = 8,229"
   ]
  },
  {
   "cell_type": "markdown",
   "metadata": {},
   "source": [
    "# 4. Задание Свойства логарифмов. Вычислить:"
   ]
  },
  {
   "cell_type": "markdown",
   "metadata": {},
   "source": [
    "log4(16) = 2"
   ]
  },
  {
   "cell_type": "markdown",
   "metadata": {},
   "source": [
    "log5(1/25) = -2"
   ]
  },
  {
   "cell_type": "markdown",
   "metadata": {},
   "source": [
    "log25(5) = 0.5"
   ]
  },
  {
   "cell_type": "markdown",
   "metadata": {},
   "source": [
    "log3(√27) = 1/2log3(27) = 3/2"
   ]
  },
  {
   "cell_type": "markdown",
   "metadata": {},
   "source": [
    "log2(12) - log2(3) = log2(12/3) = 2"
   ]
  },
  {
   "cell_type": "markdown",
   "metadata": {},
   "source": [
    "log6(12) + log6(3) = log6(12*3) = 2"
   ]
  },
  {
   "cell_type": "markdown",
   "metadata": {},
   "source": [
    "e^ln5 = e^loge(5) = 5"
   ]
  },
  {
   "cell_type": "markdown",
   "metadata": {},
   "source": [
    "log2(225)/log2(15) = log15(225) = 2"
   ]
  },
  {
   "cell_type": "markdown",
   "metadata": {},
   "source": [
    "log4(32) + log0.1(10) = log2^2(2^5) + log10^-1(10) = 5/2 log2(2) - log10(10) = 1.5"
   ]
  },
  {
   "cell_type": "code",
   "execution_count": null,
   "metadata": {},
   "outputs": [],
   "source": []
  }
 ],
 "metadata": {
  "kernelspec": {
   "display_name": "Python 3",
   "language": "python",
   "name": "python3"
  },
  "language_info": {
   "codemirror_mode": {
    "name": "ipython",
    "version": 3
   },
   "file_extension": ".py",
   "mimetype": "text/x-python",
   "name": "python",
   "nbconvert_exporter": "python",
   "pygments_lexer": "ipython3",
   "version": "3.8.5"
  }
 },
 "nbformat": 4,
 "nbformat_minor": 4
}
